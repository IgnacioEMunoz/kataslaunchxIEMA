{
 "cells": [
  {
   "cell_type": "code",
   "execution_count": 2,
   "metadata": {},
   "outputs": [
    {
     "name": "stdout",
     "output_type": "stream",
     "text": [
      "628949330\n",
      "390577533.93\n"
     ]
    }
   ],
   "source": [
    "DistTierra = 149597870\n",
    "DistJupiter = 778547200\n",
    "Distancia = DistJupiter - DistTierra\n",
    "print(Distancia)\n",
    "DistanciaMillas = Distancia*0.621\n",
    "print(DistanciaMillas)\n"
   ]
  },
  {
   "cell_type": "code",
   "execution_count": 4,
   "metadata": {},
   "outputs": [
    {
     "name": "stdout",
     "output_type": "stream",
     "text": [
      "119700000\n",
      "74333700.0\n"
     ]
    }
   ],
   "source": [
    "planeta1 = input('Introduzca la distancia del sol para el primer planeta en KM')\n",
    "planeta2 = input('Introduzca la distancia desde el sol para el segundo planeta en KM')\n",
    "planeta1 = int(planeta1)\n",
    "planeta2 = int(planeta2)\n",
    "\n",
    "Distance_km = planeta1 - planeta2\n",
    "print(abs(Distance_km))\n",
    "\n",
    "Distance_mi = Distance_km*0.621\n",
    "print(abs(Distance_mi))"
   ]
  }
 ],
 "metadata": {
  "interpreter": {
   "hash": "f191ac39f77ba27327061ecd78e7d6f0e88a79769cc599aa1c2f1387befbaefa"
  },
  "kernelspec": {
   "display_name": "Python 3.10.2 64-bit",
   "language": "python",
   "name": "python3"
  },
  "language_info": {
   "codemirror_mode": {
    "name": "ipython",
    "version": 3
   },
   "file_extension": ".py",
   "mimetype": "text/x-python",
   "name": "python",
   "nbconvert_exporter": "python",
   "pygments_lexer": "ipython3",
   "version": "3.10.2"
  },
  "orig_nbformat": 4
 },
 "nbformat": 4,
 "nbformat_minor": 2
}
