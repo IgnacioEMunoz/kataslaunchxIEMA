{
 "cells": [
  {
   "cell_type": "code",
   "execution_count": 13,
   "metadata": {},
   "outputs": [
    {
     "name": "stdout",
     "output_type": "stream",
     "text": [
      "¡Advertencia asteride asercandose!\n"
     ]
    }
   ],
   "source": [
    "asteroide = 49\n",
    "\n",
    "if  asteroide >=25:\n",
    "    print('¡Advertencia asteride asercandose!')\n",
    "else:\n",
    "    print('Todo bien')"
   ]
  },
  {
   "cell_type": "code",
   "execution_count": 14,
   "metadata": {},
   "outputs": [
    {
     "name": "stdout",
     "output_type": "stream",
     "text": [
      "Todo igual\n"
     ]
    }
   ],
   "source": [
    "asteroide = 19\n",
    "\n",
    "if  asteroide >20:\n",
    "    print('Mira al cielo')\n",
    "elif asteroide == 20:\n",
    "    print('Mira al cielo')\n",
    "else:\n",
    "    print('Todo igual')"
   ]
  },
  {
   "cell_type": "code",
   "execution_count": 23,
   "metadata": {},
   "outputs": [
    {
     "name": "stdout",
     "output_type": "stream",
     "text": [
      "Todo normal\n"
     ]
    }
   ],
   "source": [
    "Vasteroide = 12\n",
    "Tasteropide =26 \n",
    "if Vasteroide > 25 and Tasteropide > 25:\n",
    "    print('Advertensia asteroide en camino')\n",
    "elif Vasteroide >= 20:\n",
    "    print(\"Mira el cielo\")\n",
    "elif Tasteropide < 25:\n",
    "    print('Nada que ver')\n",
    "else:\n",
    "    print('Todo normal')"
   ]
  }
 ],
 "metadata": {
  "interpreter": {
   "hash": "d8f4010950514a627b81299d045c1331959a3f176cafe9fa0718e5e3579c0cff"
  },
  "kernelspec": {
   "display_name": "Python 3.10.2 64-bit (windows store)",
   "language": "python",
   "name": "python3"
  },
  "language_info": {
   "codemirror_mode": {
    "name": "ipython",
    "version": 3
   },
   "file_extension": ".py",
   "mimetype": "text/x-python",
   "name": "python",
   "nbconvert_exporter": "python",
   "pygments_lexer": "ipython3",
   "version": "3.10.2"
  },
  "orig_nbformat": 4
 },
 "nbformat": 4,
 "nbformat_minor": 2
}
