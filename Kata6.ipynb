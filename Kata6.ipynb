{
 "cells": [
  {
   "cell_type": "code",
   "execution_count": 2,
   "metadata": {},
   "outputs": [
    {
     "name": "stdout",
     "output_type": "stream",
     "text": [
      "8\n",
      "9\n"
     ]
    }
   ],
   "source": [
    "planets = ['Mercurio', 'Venus', 'Tierra', 'Marte', 'Júpiter', 'Saturno', 'Urano', 'Neptuno']\n",
    "print(len(planets))\n",
    "\n",
    "planets.append('Pluto')\n",
    "print(len(planets))"
   ]
  },
  {
   "cell_type": "code",
   "execution_count": 4,
   "metadata": {},
   "outputs": [
    {
     "name": "stdout",
     "output_type": "stream",
     "text": [
      "Planetas más cerca del sol que Mars\n",
      "['Mercury', 'Venus', 'Earth']\n",
      "Planetas más lejos que Mars\n",
      "['Jupiter', 'Saturn', 'Neptune']\n"
     ]
    }
   ],
   "source": [
    "planets = ['Mercury', 'Venus', 'Earth', 'Mars', 'Jupiter', 'Saturn', 'Neptune']\n",
    "selec_planeta = input('Nombre del planeta, primera letra con mayuscula')\n",
    "planets_find = planets.index(selec_planeta)\n",
    "\n",
    "print('Planetas más cerca del sol que ' + selec_planeta)\n",
    "print(planets[0:planets_find])\n",
    "\n",
    "print('Planetas más lejos que ' + selec_planeta)\n",
    "print(planets[planets_find + 1:])"
   ]
  }
 ],
 "metadata": {
  "interpreter": {
   "hash": "f191ac39f77ba27327061ecd78e7d6f0e88a79769cc599aa1c2f1387befbaefa"
  },
  "kernelspec": {
   "display_name": "Python 3.10.2 64-bit",
   "language": "python",
   "name": "python3"
  },
  "language_info": {
   "codemirror_mode": {
    "name": "ipython",
    "version": 3
   },
   "file_extension": ".py",
   "mimetype": "text/x-python",
   "name": "python",
   "nbconvert_exporter": "python",
   "pygments_lexer": "ipython3",
   "version": "3.10.2"
  },
  "orig_nbformat": 4
 },
 "nbformat": 4,
 "nbformat_minor": 2
}
